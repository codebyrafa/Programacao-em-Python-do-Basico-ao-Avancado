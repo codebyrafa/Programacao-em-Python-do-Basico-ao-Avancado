{
  "nbformat": 4,
  "nbformat_minor": 0,
  "metadata": {
    "colab": {
      "provenance": []
    },
    "kernelspec": {
      "name": "python3",
      "display_name": "Python 3"
    },
    "language_info": {
      "name": "python"
    }
  },
  "cells": [
    {
      "cell_type": "markdown",
      "source": [
        "\n",
        "## **Exercícios Python- Seção04**"
      ],
      "metadata": {
        "id": "jqxRHh9DWTlT"
      }
    },
    {
      "cell_type": "markdown",
      "source": [
        "**1.** Faça um programa que leia um número inteiro e o imprima.\n",
        "\n"
      ],
      "metadata": {
        "id": "2ZRZBxvMWaaY"
      }
    },
    {
      "cell_type": "code",
      "execution_count": null,
      "metadata": {
        "id": "aWmuajkaWHVO"
      },
      "outputs": [],
      "source": [
        "try:\n",
        "  integer = int(input('Digite um número inteiro qualquer: '))\n",
        "  print(f'O número inteiro digitado foi {integer}')\n",
        "except:\n",
        "  print('Sua entrada foi invalida!')"
      ]
    },
    {
      "cell_type": "markdown",
      "source": [
        "**2.** Faça um programa que leia um número real e o imprima.\n",
        "\n"
      ],
      "metadata": {
        "id": "ITuNeYypXa_C"
      }
    },
    {
      "cell_type": "code",
      "source": [
        "try:\n",
        "  real = float(input('Digite um número real qualquer: '))\n",
        "  print(f'O número real digitado foi {real}')\n",
        "except:\n",
        "  print('Sua entrada foi invalida!')"
      ],
      "metadata": {
        "colab": {
          "base_uri": "https://localhost:8080/"
        },
        "id": "lvRsWwH3XmIj",
        "outputId": "c4c8ae06-4d0c-4271-fedb-78f571f9d1c4"
      },
      "execution_count": 4,
      "outputs": [
        {
          "output_type": "stream",
          "name": "stdout",
          "text": [
            "Digite um número real qualquer: 78\n",
            "O número real digitado foi 78.0\n"
          ]
        }
      ]
    },
    {
      "cell_type": "markdown",
      "source": [
        "**3.** Peça o usuário para digitar três valores inteiros e imprima a soma deles."
      ],
      "metadata": {
        "id": "06heqsu5X72G"
      }
    },
    {
      "cell_type": "code",
      "source": [
        "try:\n",
        "  var_um = int(input('Digite um número inteiro qualquer: '))\n",
        "  var_dois = int(input('Digite um número inteiro qualquer: '))\n",
        "  var_tres = int(input('Digite um número inteiro qualquer: '))\n",
        "\n",
        "  soma = var_um + var_dois + var_tres\n",
        "  print(f'A soma desses números eh: {soma}')\n",
        "except:\n",
        "  print('Sua entrada foi invalida!')"
      ],
      "metadata": {
        "colab": {
          "base_uri": "https://localhost:8080/"
        },
        "id": "pm6DP-thYBlx",
        "outputId": "c1d32dba-8f0e-443b-c336-bce8a8e5cb5e"
      },
      "execution_count": 25,
      "outputs": [
        {
          "output_type": "stream",
          "name": "stdout",
          "text": [
            "Digite um número inteiro qualquer: 10.8\n",
            "Sua entrada foi invalida!\n"
          ]
        }
      ]
    },
    {
      "cell_type": "markdown",
      "source": [
        "**4.** Leia um número real e imprima o resultado do quadrado desse número."
      ],
      "metadata": {
        "id": "NXryTlXjb0IL"
      }
    },
    {
      "cell_type": "code",
      "source": [
        "real = float(input('Digite um número real qualquer: '))\n",
        "quadrado = real ** 2\n",
        "\n",
        "print(f'O quadrado do número {real} eh: {quadrado}')"
      ],
      "metadata": {
        "colab": {
          "base_uri": "https://localhost:8080/"
        },
        "id": "aW8edNgIb7jF",
        "outputId": "0ce6b21e-d8bc-4cc2-8ef9-80162cb5802a"
      },
      "execution_count": 26,
      "outputs": [
        {
          "output_type": "stream",
          "name": "stdout",
          "text": [
            "Digite um número real qualquer: 10\n",
            "O quadrado do número 10.0 eh: 100.0\n"
          ]
        }
      ]
    },
    {
      "cell_type": "markdown",
      "source": [
        "**5.** Leia um número real e imprima a quinta parte desse número."
      ],
      "metadata": {
        "id": "rVYMixSTcUMp"
      }
    },
    {
      "cell_type": "code",
      "source": [
        "real = float(input('Digite um número real qualquer: '))\n",
        "real = real / 5\n",
        "print(f'A quinta parte do número digitado eh: {real}')"
      ],
      "metadata": {
        "colab": {
          "base_uri": "https://localhost:8080/"
        },
        "id": "GTwY-mYgcXe7",
        "outputId": "b3d5427f-4543-40a3-f842-b51e3c1ee97b"
      },
      "execution_count": 27,
      "outputs": [
        {
          "output_type": "stream",
          "name": "stdout",
          "text": [
            "Digite um número real qualquer: 12.8\n",
            "A quinta parte do número digitado eh: 2.56\n"
          ]
        }
      ]
    },
    {
      "cell_type": "markdown",
      "source": [
        "**6.** Leia uma temperatura em graus Celsius e apresente-a convertida em graus Fahrenheit."
      ],
      "metadata": {
        "id": "H8prMpk4c21Y"
      }
    },
    {
      "cell_type": "code",
      "source": [
        "real = float(input('Digite a temperatura em graus Celsius: '))\n",
        "f = real * (9.0/5.0) + 32.0\n",
        "\n",
        "print(f'A temperatura convertida para Fahrenheit eh: {f}')"
      ],
      "metadata": {
        "colab": {
          "base_uri": "https://localhost:8080/"
        },
        "id": "Ndu5GYaNdB-F",
        "outputId": "527ec103-3d1a-45e7-cc87-26f554e527c9"
      },
      "execution_count": 28,
      "outputs": [
        {
          "output_type": "stream",
          "name": "stdout",
          "text": [
            "Digite a temperatura em graus Celsius: 32\n",
            "A temperatura convertida para Fahrenheit eh: 89.6\n"
          ]
        }
      ]
    },
    {
      "cell_type": "markdown",
      "source": [
        "**7.** Leia uma temperatura em Fahrenheit e apresente-a convertida em graus Celsius."
      ],
      "metadata": {
        "id": "bZtjs4-sdcnO"
      }
    },
    {
      "cell_type": "code",
      "source": [
        "real = float(input('Digite a temperatura em graus Fahrenheit: '))\n",
        "c = 5.0 * (real - 32.0)/9.0\n",
        "\n",
        "print(f'A temperatura convertida para Celsius eh: {c}')"
      ],
      "metadata": {
        "colab": {
          "base_uri": "https://localhost:8080/"
        },
        "id": "vYt30udldl1_",
        "outputId": "b374c724-d1bb-4c46-dc1b-ae11e5eb5114"
      },
      "execution_count": 29,
      "outputs": [
        {
          "output_type": "stream",
          "name": "stdout",
          "text": [
            "Digite a temperatura em graus Fahrenheit: 89.6\n",
            "A temperatura convertida para Celsius eh: 32.0\n"
          ]
        }
      ]
    },
    {
      "cell_type": "markdown",
      "source": [
        "**8.** Leia uma temperatura em Kelvin e apresente-a convertida em graus Celsius."
      ],
      "metadata": {
        "id": "o2G0cQXwd3ar"
      }
    },
    {
      "cell_type": "code",
      "source": [
        "real = float(input('Digite a temperatura em graus Kelvin: '))\n",
        "c = real - 273.15\n",
        "\n",
        "print(f'A temperatura convertida para Celsius eh: {c}')"
      ],
      "metadata": {
        "colab": {
          "base_uri": "https://localhost:8080/"
        },
        "id": "SIR8Lpsyd-sk",
        "outputId": "713e7d36-bda6-4273-b10e-b1ff221a6f91"
      },
      "execution_count": 30,
      "outputs": [
        {
          "output_type": "stream",
          "name": "stdout",
          "text": [
            "Digite a temperatura em graus Kelvin: 100\n",
            "A temperatura convertida para Celsius eh: -173.14999999999998\n"
          ]
        }
      ]
    },
    {
      "cell_type": "markdown",
      "source": [
        "**9.** Leia uma temperatura em graus Celsius e apresente-a convertida em graus Kelvin."
      ],
      "metadata": {
        "id": "LYL0K1KBeQq5"
      }
    },
    {
      "cell_type": "code",
      "source": [
        "real = float(input('Digite a temperatura em graus Celsius: '))\n",
        "k = real + 273.15\n",
        "\n",
        "print(f'A temperatura convertida para Fahrenheit eh: {k}')"
      ],
      "metadata": {
        "colab": {
          "base_uri": "https://localhost:8080/"
        },
        "id": "iDET43FmeXbV",
        "outputId": "460a3892-b73d-46ab-e8c2-74d82b0e3df7"
      },
      "execution_count": 31,
      "outputs": [
        {
          "output_type": "stream",
          "name": "stdout",
          "text": [
            "Digite a temperatura em graus Celsius: 23\n",
            "A temperatura convertida para Fahrenheit eh: 296.15\n"
          ]
        }
      ]
    },
    {
      "cell_type": "markdown",
      "source": [
        "**10.** Leia uma velocidade em km/h e apresente-a convertida em m/s."
      ],
      "metadata": {
        "id": "LXR5YJs4eh2d"
      }
    },
    {
      "cell_type": "code",
      "source": [
        "real = float(input('Digite a velocidade (km/h): '))\n",
        "real = real / 3.6\n",
        "\n",
        "print(f'A sua velocidade convertida para m/s eh: {real}')"
      ],
      "metadata": {
        "colab": {
          "base_uri": "https://localhost:8080/"
        },
        "id": "pB_0PE2CerKu",
        "outputId": "5b66be07-1c66-4520-a764-61dbf719fe9f"
      },
      "execution_count": 32,
      "outputs": [
        {
          "output_type": "stream",
          "name": "stdout",
          "text": [
            "Digite a velocidade (km/h): 45\n",
            "A sua velocidade convertida para m/s eh: 12.5\n"
          ]
        }
      ]
    },
    {
      "cell_type": "markdown",
      "source": [
        "**11.** Leia uma velocidade em m/s e apresente-a convertida em km/h."
      ],
      "metadata": {
        "id": "HQM0Q_NSfEOU"
      }
    },
    {
      "cell_type": "code",
      "source": [
        "real = float(input('Digite a velocidade (m/s): '))\n",
        "real = real * 3.6\n",
        "\n",
        "print(f'A sua velocidade convertida para km/h eh: {real}')"
      ],
      "metadata": {
        "colab": {
          "base_uri": "https://localhost:8080/"
        },
        "id": "mXkYMuqHfNMj",
        "outputId": "5ef00606-95d7-44c0-fb83-ca1e55bdb98f"
      },
      "execution_count": 33,
      "outputs": [
        {
          "output_type": "stream",
          "name": "stdout",
          "text": [
            "Digite a velocidade (m/s): 12.5\n",
            "A sua velocidade convertida para km/h eh: 45.0\n"
          ]
        }
      ]
    },
    {
      "cell_type": "markdown",
      "source": [
        "**12.** Leia uma distância em milhas e apresente-a convertida em quilômetros."
      ],
      "metadata": {
        "id": "iaA9YegYfYD5"
      }
    },
    {
      "cell_type": "code",
      "source": [
        "real = float(input('Digite a distância em milhas: '))\n",
        "real = 1.61 * real\n",
        "\n",
        "print(f'A sua distância convertida para quilômetrso eh: {real}')"
      ],
      "metadata": {
        "colab": {
          "base_uri": "https://localhost:8080/"
        },
        "id": "583cqQ4Efhb8",
        "outputId": "29a520e5-f737-45cf-a7f3-00b6400d34eb"
      },
      "execution_count": 34,
      "outputs": [
        {
          "output_type": "stream",
          "name": "stdout",
          "text": [
            "Digite a distância em milhas: 147\n",
            "A sua distância convertida para quilômetrso eh: 236.67000000000002\n"
          ]
        }
      ]
    },
    {
      "cell_type": "markdown",
      "source": [
        "**13.** Leia uma distância em quilômetros e apresente-a convertida em milhas."
      ],
      "metadata": {
        "id": "rpmJmwJSf5Ky"
      }
    },
    {
      "cell_type": "code",
      "source": [
        "real = float(input('Digite a distância em quilômetros: '))\n",
        "real = real / 1.61\n",
        "\n",
        "print(f'A sua distância convertida para milhas eh: {real}')"
      ],
      "metadata": {
        "colab": {
          "base_uri": "https://localhost:8080/"
        },
        "id": "6OE6B0YsgAAE",
        "outputId": "9dd8e3ed-ad2b-4c19-d920-b5388eb43e07"
      },
      "execution_count": 36,
      "outputs": [
        {
          "output_type": "stream",
          "name": "stdout",
          "text": [
            "Digite a distância em quilômetros: 236.67\n",
            "A sua distância convertida para milhas eh: 146.99999999999997\n"
          ]
        }
      ]
    },
    {
      "cell_type": "markdown",
      "source": [
        "**14.** Leia um ângulo em graus e apresente-a convertida em radianos."
      ],
      "metadata": {
        "id": "LEcI9jBQgR99"
      }
    },
    {
      "cell_type": "code",
      "source": [
        "real = float(input('Digite o ângulo em graus: '))\n",
        "radius = real * 3.14/180\n",
        "\n",
        "print(f'Seu ângulo em radianos eh: {radius}')"
      ],
      "metadata": {
        "colab": {
          "base_uri": "https://localhost:8080/"
        },
        "id": "Agg8UpANgX7f",
        "outputId": "43dc5032-23b2-4846-b961-48c8687fd8ab"
      },
      "execution_count": 38,
      "outputs": [
        {
          "output_type": "stream",
          "name": "stdout",
          "text": [
            "Digite o ângulo em graus: 90\n",
            "Seu ângulo em radianos eh: 1.57\n"
          ]
        }
      ]
    },
    {
      "cell_type": "markdown",
      "source": [
        "**15.** Leia um ângulo em radianos e apresente-a convertida em graus."
      ],
      "metadata": {
        "id": "-TCcYY4vg0rV"
      }
    },
    {
      "cell_type": "code",
      "source": [
        "real = float(input('Digite o ângulo em graus: '))\n",
        "graus = real * 180/3.14\n",
        "\n",
        "print(f'Seu ângulo em radianos eh: {graus}')"
      ],
      "metadata": {
        "colab": {
          "base_uri": "https://localhost:8080/"
        },
        "id": "_vbR_Vwkg6J3",
        "outputId": "0b89a22c-4ef4-44b8-924f-b40cf8759f36"
      },
      "execution_count": 39,
      "outputs": [
        {
          "output_type": "stream",
          "name": "stdout",
          "text": [
            "Digite o ângulo em graus: 1.57\n",
            "Seu ângulo em radianos eh: 90.0\n"
          ]
        }
      ]
    }
  ]
}
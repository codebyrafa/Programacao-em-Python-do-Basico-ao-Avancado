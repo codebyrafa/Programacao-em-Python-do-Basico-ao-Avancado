{
  "nbformat": 4,
  "nbformat_minor": 0,
  "metadata": {
    "colab": {
      "provenance": []
    },
    "kernelspec": {
      "name": "python3",
      "display_name": "Python 3"
    },
    "language_info": {
      "name": "python"
    }
  },
  "cells": [
    {
      "cell_type": "markdown",
      "source": [
        "\n",
        "## **Exercícios Python- Seção04**"
      ],
      "metadata": {
        "id": "jqxRHh9DWTlT"
      }
    },
    {
      "cell_type": "markdown",
      "source": [
        "**1.** Faça um programa que leia um número inteiro e o imprima.\n",
        "\n"
      ],
      "metadata": {
        "id": "2ZRZBxvMWaaY"
      }
    },
    {
      "cell_type": "code",
      "execution_count": null,
      "metadata": {
        "id": "aWmuajkaWHVO"
      },
      "outputs": [],
      "source": [
        "try:\n",
        "  integer = int(input('Digite um número inteiro qualquer: '))\n",
        "  print(f'O número inteiro digitado foi {integer}')\n",
        "except:\n",
        "  print('Sua entrada foi invalida!')"
      ]
    },
    {
      "cell_type": "markdown",
      "source": [
        "**2.** Faça um programa que leia um número real e o imprima.\n",
        "\n"
      ],
      "metadata": {
        "id": "ITuNeYypXa_C"
      }
    },
    {
      "cell_type": "code",
      "source": [
        "try:\n",
        "  real = float(input('Digite um número real qualquer: '))\n",
        "  print(f'O número real digitado foi {real}')\n",
        "except:\n",
        "  print('Sua entrada foi invalida!')"
      ],
      "metadata": {
        "id": "lvRsWwH3XmIj"
      },
      "execution_count": null,
      "outputs": []
    },
    {
      "cell_type": "markdown",
      "source": [
        "**3.** Peça o usuário para digitar três valores inteiros e imprima a soma deles."
      ],
      "metadata": {
        "id": "06heqsu5X72G"
      }
    },
    {
      "cell_type": "code",
      "source": [
        "try:\n",
        "  var_um = int(input('Digite um número inteiro qualquer: '))\n",
        "  var_dois = int(input('Digite um número inteiro qualquer: '))\n",
        "  var_tres = int(input('Digite um número inteiro qualquer: '))\n",
        "\n",
        "  soma = var_um + var_dois + var_tres\n",
        "  print(f'A soma desses números eh: {soma}')\n",
        "except:\n",
        "  print('Sua entrada foi invalida!')"
      ],
      "metadata": {
        "id": "pm6DP-thYBlx"
      },
      "execution_count": null,
      "outputs": []
    },
    {
      "cell_type": "markdown",
      "source": [
        "**4.** Leia um número real e imprima o resultado do quadrado desse número."
      ],
      "metadata": {
        "id": "NXryTlXjb0IL"
      }
    },
    {
      "cell_type": "code",
      "source": [
        "real = float(input('Digite um número real qualquer: '))\n",
        "quadrado = real ** 2\n",
        "\n",
        "print(f'O quadrado do número {real} eh: {quadrado}')"
      ],
      "metadata": {
        "id": "aW8edNgIb7jF"
      },
      "execution_count": null,
      "outputs": []
    },
    {
      "cell_type": "markdown",
      "source": [
        "**5.** Leia um número real e imprima a quinta parte desse número."
      ],
      "metadata": {
        "id": "rVYMixSTcUMp"
      }
    },
    {
      "cell_type": "code",
      "source": [
        "real = float(input('Digite um número real qualquer: '))\n",
        "real = real / 5\n",
        "print(f'A quinta parte do número digitado eh: {real}')"
      ],
      "metadata": {
        "id": "GTwY-mYgcXe7"
      },
      "execution_count": null,
      "outputs": []
    },
    {
      "cell_type": "markdown",
      "source": [
        "**6.** Leia uma temperatura em graus Celsius e apresente-a convertida em graus Fahrenheit."
      ],
      "metadata": {
        "id": "H8prMpk4c21Y"
      }
    },
    {
      "cell_type": "code",
      "source": [
        "real = float(input('Digite a temperatura em graus Celsius: '))\n",
        "f = real * (9.0/5.0) + 32.0\n",
        "\n",
        "print(f'A temperatura convertida para Fahrenheit eh: {f}')"
      ],
      "metadata": {
        "id": "Ndu5GYaNdB-F"
      },
      "execution_count": null,
      "outputs": []
    },
    {
      "cell_type": "markdown",
      "source": [
        "**7.** Leia uma temperatura em Fahrenheit e apresente-a convertida em graus Celsius."
      ],
      "metadata": {
        "id": "bZtjs4-sdcnO"
      }
    },
    {
      "cell_type": "code",
      "source": [
        "real = float(input('Digite a temperatura em graus Fahrenheit: '))\n",
        "c = 5.0 * (real - 32.0)/9.0\n",
        "\n",
        "print(f'A temperatura convertida para Celsius eh: {c}')"
      ],
      "metadata": {
        "id": "vYt30udldl1_"
      },
      "execution_count": null,
      "outputs": []
    },
    {
      "cell_type": "markdown",
      "source": [
        "**8.** Leia uma temperatura em Kelvin e apresente-a convertida em graus Celsius."
      ],
      "metadata": {
        "id": "o2G0cQXwd3ar"
      }
    },
    {
      "cell_type": "code",
      "source": [
        "real = float(input('Digite a temperatura em graus Kelvin: '))\n",
        "c = real - 273.15\n",
        "\n",
        "print(f'A temperatura convertida para Celsius eh: {c}')"
      ],
      "metadata": {
        "id": "SIR8Lpsyd-sk"
      },
      "execution_count": null,
      "outputs": []
    },
    {
      "cell_type": "markdown",
      "source": [
        "**9.** Leia uma temperatura em graus Celsius e apresente-a convertida em graus Kelvin."
      ],
      "metadata": {
        "id": "LYL0K1KBeQq5"
      }
    },
    {
      "cell_type": "code",
      "source": [
        "real = float(input('Digite a temperatura em graus Celsius: '))\n",
        "k = real + 273.15\n",
        "\n",
        "print(f'A temperatura convertida para Fahrenheit eh: {k}')"
      ],
      "metadata": {
        "id": "iDET43FmeXbV"
      },
      "execution_count": null,
      "outputs": []
    },
    {
      "cell_type": "markdown",
      "source": [
        "**10.** Leia uma velocidade em km/h e apresente-a convertida em m/s."
      ],
      "metadata": {
        "id": "LXR5YJs4eh2d"
      }
    },
    {
      "cell_type": "code",
      "source": [
        "real = float(input('Digite a velocidade (km/h): '))\n",
        "real = real / 3.6\n",
        "\n",
        "print(f'A sua velocidade convertida para m/s eh: {real}')"
      ],
      "metadata": {
        "id": "pB_0PE2CerKu"
      },
      "execution_count": null,
      "outputs": []
    },
    {
      "cell_type": "markdown",
      "source": [
        "**11.** Leia uma velocidade em m/s e apresente-a convertida em km/h."
      ],
      "metadata": {
        "id": "HQM0Q_NSfEOU"
      }
    },
    {
      "cell_type": "code",
      "source": [
        "real = float(input('Digite a velocidade (m/s): '))\n",
        "real = real * 3.6\n",
        "\n",
        "print(f'A sua velocidade convertida para km/h eh: {real}')"
      ],
      "metadata": {
        "id": "mXkYMuqHfNMj"
      },
      "execution_count": null,
      "outputs": []
    },
    {
      "cell_type": "markdown",
      "source": [
        "**12.** Leia uma distância em milhas e apresente-a convertida em quilômetros."
      ],
      "metadata": {
        "id": "iaA9YegYfYD5"
      }
    },
    {
      "cell_type": "code",
      "source": [
        "real = float(input('Digite a distância em milhas: '))\n",
        "real = 1.61 * real\n",
        "\n",
        "print(f'A sua distância convertida para quilômetrso eh: {real}')"
      ],
      "metadata": {
        "id": "583cqQ4Efhb8"
      },
      "execution_count": null,
      "outputs": []
    },
    {
      "cell_type": "markdown",
      "source": [
        "**13.** Leia uma distância em quilômetros e apresente-a convertida em milhas."
      ],
      "metadata": {
        "id": "rpmJmwJSf5Ky"
      }
    },
    {
      "cell_type": "code",
      "source": [
        "real = float(input('Digite a distância em quilômetros: '))\n",
        "real = real / 1.61\n",
        "\n",
        "print(f'A sua distância convertida para milhas eh: {real}')"
      ],
      "metadata": {
        "id": "6OE6B0YsgAAE"
      },
      "execution_count": null,
      "outputs": []
    },
    {
      "cell_type": "markdown",
      "source": [
        "**14.** Leia um ângulo em graus e apresente-a convertida em radianos."
      ],
      "metadata": {
        "id": "LEcI9jBQgR99"
      }
    },
    {
      "cell_type": "code",
      "source": [
        "real = float(input('Digite o ângulo em graus: '))\n",
        "radius = real * 3.14/180\n",
        "\n",
        "print(f'Seu ângulo em radianos eh: {radius}')"
      ],
      "metadata": {
        "id": "Agg8UpANgX7f"
      },
      "execution_count": null,
      "outputs": []
    },
    {
      "cell_type": "markdown",
      "source": [
        "**15.** Leia um ângulo em radianos e apresente-a convertida em graus."
      ],
      "metadata": {
        "id": "-TCcYY4vg0rV"
      }
    },
    {
      "cell_type": "code",
      "source": [
        "real = float(input('Digite o ângulo em graus: '))\n",
        "graus = real * 180/3.14\n",
        "\n",
        "print(f'Seu ângulo em radianos eh: {graus}')"
      ],
      "metadata": {
        "id": "_vbR_Vwkg6J3"
      },
      "execution_count": null,
      "outputs": []
    },
    {
      "cell_type": "markdown",
      "source": [
        "**16.** Leia um valor no comprimento de uma polegada e apresente-o convertido em centímetros."
      ],
      "metadata": {
        "id": "-YiZhqQqxief"
      }
    },
    {
      "cell_type": "code",
      "source": [
        "real = float(input('Digite o comprimento em polegadas: '))\n",
        "c = real * 2.54\n",
        "\n",
        "print(f'O comprimento em centimetros eh: {c}')"
      ],
      "metadata": {
        "id": "C4MFjRDYxvoK"
      },
      "execution_count": null,
      "outputs": []
    },
    {
      "cell_type": "markdown",
      "source": [],
      "metadata": {
        "id": "5C_p1DWnyuKn"
      }
    },
    {
      "cell_type": "markdown",
      "source": [
        "**17.** Leia um valor de comprimento em centimetros e apresente-o convertido em polegadas."
      ],
      "metadata": {
        "id": "ZZFkG80nyuO6"
      }
    },
    {
      "cell_type": "code",
      "source": [
        "real = float(input('Digite o comprimento em centimetros: '))\n",
        "p = real / 2.54\n",
        "\n",
        "print(f'O comprimento em polegadas eh: {p}')"
      ],
      "metadata": {
        "id": "_lq2_D3Sy6XS"
      },
      "execution_count": null,
      "outputs": []
    },
    {
      "cell_type": "markdown",
      "source": [
        "**18.** Leia um valor de volume em metros cúbicos m³ e apresente-o convertido em litros."
      ],
      "metadata": {
        "id": "YXEV1rCszIrw"
      }
    },
    {
      "cell_type": "code",
      "source": [
        "real = float(input('Digite o valor em metros cúbicos: '))\n",
        "l = 1000 * real\n",
        "\n",
        "print(f'O valor em litros eh: {l}')"
      ],
      "metadata": {
        "id": "LmIVK_bhzVYN"
      },
      "execution_count": null,
      "outputs": []
    },
    {
      "cell_type": "markdown",
      "source": [
        "**19.** Leia um valor de volume em litros e apresente-o convertido em metros cúbicos m³."
      ],
      "metadata": {
        "id": "CvzPFupSzkWC"
      }
    },
    {
      "cell_type": "code",
      "source": [
        "real = float(input('Digite o valor em litros: '))\n",
        "m = real / 1000\n",
        "\n",
        "print(f'O valor em metros cúbicos eh: {m}')"
      ],
      "metadata": {
        "id": "8g349ahjzuYc"
      },
      "execution_count": null,
      "outputs": []
    },
    {
      "cell_type": "markdown",
      "source": [
        "**20.** Leia um valor de massa em quilogramas e apresente-o convertido em libras."
      ],
      "metadata": {
        "id": "fN7t73RUz5-B"
      }
    },
    {
      "cell_type": "code",
      "source": [
        "real = float(input('Digie o valor dos quilos: '))\n",
        "l = real / 0.45\n",
        "\n",
        "print(f'O valor convertido para libras eh: {l}')"
      ],
      "metadata": {
        "id": "mv2dQiKS0B48"
      },
      "execution_count": null,
      "outputs": []
    },
    {
      "cell_type": "markdown",
      "source": [
        "**21.** Leia um valor de massa em libras e apresente-o convertido em quilogramas."
      ],
      "metadata": {
        "id": "O96GijI60T2Z"
      }
    },
    {
      "cell_type": "code",
      "source": [
        "real = float(input('Digite o valor das libras: '))\n",
        "k = real * 0.45\n",
        "\n",
        "print(f'O valor convertido para quilogramas eh: {k}')"
      ],
      "metadata": {
        "id": "t_p0cFLo0a6t"
      },
      "execution_count": null,
      "outputs": []
    },
    {
      "cell_type": "markdown",
      "source": [
        "**22.** Lea um valaor de comprimento em jardas e apresente-o convertido em metros."
      ],
      "metadata": {
        "id": "ED6nggA30k_B"
      }
    },
    {
      "cell_type": "code",
      "source": [
        "real = float(input('Digite o valor em jardas: '))\n",
        "m = 0.91 * real\n",
        "\n",
        "print(f'O valor convertido para metros eh: {m}')"
      ],
      "metadata": {
        "id": "e7YWN99d0p6Z"
      },
      "execution_count": null,
      "outputs": []
    },
    {
      "cell_type": "markdown",
      "source": [
        "**23.** Leia um valor de comprimento em metros e apresente-o convertido em jardas."
      ],
      "metadata": {
        "id": "nDtI0CGD03ZN"
      }
    },
    {
      "cell_type": "code",
      "source": [
        "real = float(input('Digite o valor em metros: '))\n",
        "j = real / 0.91\n",
        "\n",
        "print(f'O valor convertido para jardas eh: {j}')"
      ],
      "metadata": {
        "id": "TzMFt9kH08tK"
      },
      "execution_count": null,
      "outputs": []
    },
    {
      "cell_type": "markdown",
      "source": [
        "**24.** Leia um valor de área em metros quadrados m² e apresente-o convertido em acres."
      ],
      "metadata": {
        "id": "aJyWOf8N1JFm"
      }
    },
    {
      "cell_type": "code",
      "source": [
        "real = float(input('Digite ovalor em metros quadrados: '))\n",
        "a = real * 0.000247\n",
        "\n",
        "print(f'O valor convertido para acres eh: {a}')"
      ],
      "metadata": {
        "id": "Lqas22-K1QPw"
      },
      "execution_count": null,
      "outputs": []
    },
    {
      "cell_type": "markdown",
      "source": [
        "**25.** Leia um valor de área em acres e apresente-o convertido em metros quadrados m²."
      ],
      "metadata": {
        "id": "IdzeocfZ1gfH"
      }
    },
    {
      "cell_type": "code",
      "source": [
        "real = float(input('Digite o valor em acres: '))\n",
        "m = real * 4048.58\n",
        "\n",
        "print(f'O valor convertido para metros quadrados eh: {m}')"
      ],
      "metadata": {
        "id": "A1goi0g51mFA"
      },
      "execution_count": null,
      "outputs": []
    },
    {
      "cell_type": "markdown",
      "source": [
        "**26.** Leia um valor em metros quadrados m² e apresente-o convetido em hectares."
      ],
      "metadata": {
        "id": "gaTz2w231-Hf"
      }
    },
    {
      "cell_type": "code",
      "source": [
        "real = float(input('Digite o valor em metros quadrados: '))\n",
        "h = real * 0.0001\n",
        "\n",
        "print(f'O valor convertido para hectares eh: {h}')"
      ],
      "metadata": {
        "id": "bEO53AOd2FZd"
      },
      "execution_count": null,
      "outputs": []
    },
    {
      "cell_type": "markdown",
      "source": [
        "**27.** Leia um valor de área em hectares e apresente-o convertido em metros quadrados m²."
      ],
      "metadata": {
        "id": "IZvh4cXH2S66"
      }
    },
    {
      "cell_type": "code",
      "source": [
        "real = float(input('Digite o valor em hectares: '))\n",
        "m = real * 10000\n",
        "\n",
        "print(f'O valor convertido para metros quadrados eh: {m}')"
      ],
      "metadata": {
        "id": "tWuP29m52d7H"
      },
      "execution_count": null,
      "outputs": []
    },
    {
      "cell_type": "markdown",
      "source": [
        "**28.** Faça a leitura de três valores e apresente como resultado a soma dos quadrados dos três valores lidos."
      ],
      "metadata": {
        "id": "X_dbBgAE2p4s"
      }
    },
    {
      "cell_type": "code",
      "source": [
        "value_1 = float(input('Digite o primeiro valor: '))\n",
        "value_2 = float(input('Digite o segundo valor: '))\n",
        "value_3 = float(input('Digite o terceiro valor: '))\n",
        "\n",
        "soma = (value_1 ** 2) + (value_2 ** 2) + (value_3 ** 2)\n",
        "\n",
        "print(f'A soma eh: {soma}')"
      ],
      "metadata": {
        "id": "q_jkQt5w2wzx"
      },
      "execution_count": null,
      "outputs": []
    },
    {
      "cell_type": "markdown",
      "source": [
        "**29.** Leia quatro notas, calcule a média aritmética e imprima o resultado."
      ],
      "metadata": {
        "id": "r2btBAAU38Dy"
      }
    },
    {
      "cell_type": "code",
      "source": [
        "value_1 = float(input('Primeira nota: '))\n",
        "value_2 = float(input('Segunda nota: '))\n",
        "value_3 = float(input('Terceira nota: '))\n",
        "value_4 = float(input('Quarta nota: '))\n",
        "\n",
        "media = (value_1 + value_2 + value_3 + value_4) / 4\n",
        "\n",
        "print(f'A media aritmética eh: {media}')"
      ],
      "metadata": {
        "id": "r-PoyNYi4A6m"
      },
      "execution_count": null,
      "outputs": []
    },
    {
      "cell_type": "markdown",
      "source": [
        "**30.** Leia um valor em real e a cotação do dólar. Em seguida, imprima o valor correspondente em dólares."
      ],
      "metadata": {
        "id": "afki9_-74lDJ"
      }
    },
    {
      "cell_type": "code",
      "source": [
        "real = float(input('Digite o valor em real: '))\n",
        "dolar = float(input('Digite a cotação atual: '))\n",
        "\n",
        "dolar = real / dolar\n",
        "\n",
        "print(f'O valor em dolares eh: {dolar}')"
      ],
      "metadata": {
        "id": "-3FbFhnJ4sKa"
      },
      "execution_count": null,
      "outputs": []
    }
  ]
}